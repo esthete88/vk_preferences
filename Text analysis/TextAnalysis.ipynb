{
 "cells": [
  {
   "cell_type": "code",
   "execution_count": 67,
   "metadata": {},
   "outputs": [],
   "source": [
    "import vk\n",
    "import requests\n",
    "import numpy as np\n",
    "\n",
    "token = 'b368ac864954c29d81fb7d1b58d11366a3216874db8ddd1269249503eece6b89a9335431e5dff903c2b3b'\n",
    "\n",
    "session = vk.Session(access_token=token)\n",
    "api = vk.API(session)\n",
    "\n",
    "id = -29534144 # Lentach"
   ]
  },
  {
   "cell_type": "code",
   "execution_count": 57,
   "metadata": {},
   "outputs": [],
   "source": [
    "def getData(publicId, size=100):\n",
    "    offset = 0\n",
    "    texts = []\n",
    "    likes = []\n",
    "    reposts = []\n",
    "    views = []\n",
    "    while offset + 100 < size:\n",
    "        wall = api.wall.get(owner_id=id, count=100, offset=offset, v=5.74)\n",
    "        for item in wall['items']:\n",
    "            if item.get('copy_history'):\n",
    "                texts.append(item['copy_history'][0]['text'])\n",
    "            else:\n",
    "                texts.append(item['text'])\n",
    "            likes.append(item['likes']['count'])\n",
    "            reposts.append(item['reposts']['count'])\n",
    "            views.append(item['views']['count'])\n",
    "        offset += 100\n",
    "    wall = api.wall.get(owner_id=id, count=size-offset, offset=offset, v=5.74)\n",
    "    for item in wall['items']:\n",
    "        if item.get('copy_history'):\n",
    "            texts.append(item['copy_history'][0]['text'])\n",
    "        else:\n",
    "            texts.append(item['text'])\n",
    "        likes.append(item['likes']['count'])\n",
    "        reposts.append(item['reposts']['count'])\n",
    "        views.append(item['views']['count'])\n",
    "    return texts, likes, reposts, views"
   ]
  },
  {
   "cell_type": "code",
   "execution_count": 61,
   "metadata": {},
   "outputs": [],
   "source": [
    "texts, likes, reposts, views = getData(publicId=id, size=150)"
   ]
  },
  {
   "cell_type": "code",
   "execution_count": 59,
   "metadata": {},
   "outputs": [
    {
     "data": {
      "text/plain": [
       "['Кажется, в комментариях Инстаграма Юлии Самойловой открылся 5-й круг ада',\n",
       " 'Министерство финансов предложило урезать пенсионное обеспечение более чем на 50 000 000 000 рублей\\n\\nhttp://news.lenta.ch/CcO8',\n",
       " '• Компания Игоря Чайки начинает поставки пива в Китай; \\n• Власти США расследуют новое ДТП с участием электромобиля Tesla; \\n• В Конгрессе США хотят достроить единственное в стране хранилище ядерных отходов;\\n• В Москве пройдёт образовательный форум «Колесо обозрения-2018»\\n\\nи другие новости к этому часу',\n",
       " 'Новый альбом Arctic Monkeys — «Tranquility Base Hotel & Casino»',\n",
       " 'К слову о доверии к телевидению — «Первый канал» на днях сравнил жизнь в России и Европе. \\n \\nУ нас, говорят, короче, но веселее',\n",
       " 'Опрос показал, что уровень доверия россиян к телевидению продолжает снижаться.\\n\\nТолько 43% опрошенных считают его самым достоверным источником информации\\n\\nhttp://news.lenta.ch/CQ6d',\n",
       " 'В Омске спустя 26 лет после начала работ заморозили строительство метрополитена.\\n\\nЗа всё это время была построена лишь одна станция\\n\\nhttp://news.lenta.ch/CQwD',\n",
       " '• Хоккеисты сборной России проиграли на чемпионате мира в Дании; \\n• Черчесов вошел в пятерку самых высокооплачиваемых тренеров команд-участниц ЧМ-2018; \\n• Напавшего на Татьяну Фельгенгауэр отправили на принудительное лечение\\n\\nи другие новости к этому часу',\n",
       " 'Минюст России в национальном докладе ООН заявил о защищённости прав россиян на свободу мысли и слова\\n\\nhttp://news.lenta.ch/CQSN',\n",
       " 'Чо, кожаные ублюдки, ЗОЖ?',\n",
       " 'Прочитайте про новые наработки от Nike, которые помогут обуть вас\\n\\nhttp://news.lenta.ch/CQhq']"
      ]
     },
     "execution_count": 59,
     "metadata": {},
     "output_type": "execute_result"
    }
   ],
   "source": [
    "texts"
   ]
  },
  {
   "cell_type": "code",
   "execution_count": null,
   "metadata": {},
   "outputs": [],
   "source": []
  }
 ],
 "metadata": {
  "kernelspec": {
   "display_name": "Python 3",
   "language": "python",
   "name": "python3"
  },
  "language_info": {
   "codemirror_mode": {
    "name": "ipython",
    "version": 3
   },
   "file_extension": ".py",
   "mimetype": "text/x-python",
   "name": "python",
   "nbconvert_exporter": "python",
   "pygments_lexer": "ipython3",
   "version": "3.6.4"
  }
 },
 "nbformat": 4,
 "nbformat_minor": 2
}
