{
 "cells": [
  {
   "cell_type": "code",
   "execution_count": 2,
   "metadata": {},
   "outputs": [
    {
     "name": "stdout",
     "output_type": "stream",
     "text": [
      "Populating the interactive namespace from numpy and matplotlib\n"
     ]
    }
   ],
   "source": [
    "import pandas as pd\n",
    "import numpy as np\n",
    "\n",
    "from keras.layers import Dense, Activation, Dropout\n",
    "from keras.models import Sequential, load_model\n",
    "import keras.backend as K\n",
    "\n",
    "from sklearn.externals import joblib\n",
    "from sklearn.model_selection import StratifiedKFold\n",
    "\n",
    "import seaborn as sns\n",
    "%pylab inline"
   ]
  },
  {
   "cell_type": "code",
   "execution_count": 3,
   "metadata": {},
   "outputs": [],
   "source": [
    "# PCA components\n",
    "n_components = 14\n",
    "\n",
    "# NN hyperparameters\n",
    "batch_size = 200\n",
    "epochs = 20\n",
    "dropout_size = 0.3\n",
    "\n",
    "# hidden layers dimensions\n",
    "hidden_first = 350\n",
    "hidden_second = 200\n",
    "hidden_third = 50\n",
    "hidden_fourth = 20"
   ]
  },
  {
   "cell_type": "code",
   "execution_count": 4,
   "metadata": {},
   "outputs": [
    {
     "name": "stdout",
     "output_type": "stream",
     "text": [
      "[6760 5117 6603 4436 1709]\n",
      "[    0  6760 11877 18480 22916 24625]\n"
     ]
    }
   ],
   "source": [
    "cols = ['Candidate 0', 'Candidate 1', 'Accuracy', 'TPR (recall)', 'TNR', 'PPV (precision)', 'NPV', 'F1']\n",
    "scores = pd.DataFrame(columns=cols)\n",
    "scores_mean = pd.DataFrame(columns=cols)\n",
    "keys = ['Putin', 'Sobchak', 'Grudinin', 'Zhirinovsky', 'Yavlinsky']\n",
    "\n",
    "dim = np.load('dim.npy')\n",
    "slices = np.load('slices.npy')\n",
    "print(dim)\n",
    "print(slices)"
   ]
  },
  {
   "cell_type": "code",
   "execution_count": 5,
   "metadata": {},
   "outputs": [],
   "source": [
    "X_pca = np.load('X_pca.npy')"
   ]
  },
  {
   "cell_type": "code",
   "execution_count": null,
   "metadata": {},
   "outputs": [],
   "source": []
  }
 ],
 "metadata": {
  "kernelspec": {
   "display_name": "Python 3",
   "language": "python",
   "name": "python3"
  },
  "language_info": {
   "codemirror_mode": {
    "name": "ipython",
    "version": 3
   },
   "file_extension": ".py",
   "mimetype": "text/x-python",
   "name": "python",
   "nbconvert_exporter": "python",
   "pygments_lexer": "ipython3",
   "version": "3.6.4"
  }
 },
 "nbformat": 4,
 "nbformat_minor": 2
}
